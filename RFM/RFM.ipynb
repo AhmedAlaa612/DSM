{
 "cells": [
  {
   "cell_type": "code",
   "execution_count": 1,
   "metadata": {},
   "outputs": [],
   "source": [
    "import pandas as pd\n",
    "import matplotlib.pyplot as plt\n",
    "import seaborn as sns"
   ]
  },
  {
   "cell_type": "code",
   "execution_count": 2,
   "metadata": {},
   "outputs": [],
   "source": [
    "data = pd.read_excel('hoteldataset.xlsx')"
   ]
  },
  {
   "cell_type": "code",
   "execution_count": 4,
   "metadata": {},
   "outputs": [
    {
     "name": "stdout",
     "output_type": "stream",
     "text": [
      "79811\n"
     ]
    }
   ],
   "source": [
    "# print(data.head())\n",
    "# print(data.info())\n",
    "# print(data.describe())\n",
    "# print(data.isnull().sum())\n",
    "data.dropna(inplace=True)\n",
    "data.drop_duplicates(inplace=True)\n",
    "print(len(data))"
   ]
  },
  {
   "cell_type": "code",
   "execution_count": 6,
   "metadata": {},
   "outputs": [
    {
     "data": {
      "text/plain": [
       "<Axes: xlabel='Nationality'>"
      ]
     },
     "execution_count": 6,
     "metadata": {},
     "output_type": "execute_result"
    },
    {
     "data": {
      "image/png": "[encoded data removed]",
      "text/plain": [
       "<Figure size 640x480 with 1 Axes>"
      ]
     },
     "metadata": {},
     "output_type": "display_data"
    }
   ],
   "source": [
    "data['Nationality'].value_counts()[0:10].plot(kind='bar')"
   ]
  },
  {
   "cell_type": "code",
   "execution_count": 60,
   "metadata": {},
   "outputs": [
    {
     "name": "stdout",
     "output_type": "stream",
     "text": [
      "   ID  monetary  BookingsCheckedIn  DaysSinceLastStay\n",
      "0   1     476.3                  3                151\n",
      "2   3       0.0                  0                 -1\n",
      "3   4     300.0                  1               1100\n",
      "4   5       0.0                  0                 -1\n",
      "5   6     254.0                  1               1097\n",
      "79811\n",
      "60540\n",
      "[ 3  1  9 11  2  7  8  5  6  4 66 15 29 25 10 17 13 26 23 12 57 40 18 14\n",
      " 24 20 34]\n"
     ]
    }
   ],
   "source": [
    "data['monetary'] = data['LodgingRevenue'] + data['OtherRevenue']\n",
    "#RFM data\n",
    "RFM_data = data[['ID', 'monetary', 'BookingsCheckedIn', 'DaysSinceLastStay']]\n",
    "print(RFM_data.head())\n",
    "print(len(RFM_data))\n",
    "filtered_RFM_data = RFM_data[RFM_data['monetary'] > 0]\n",
    "print(len(filtered_RFM_data))\n",
    "print(filtered_RFM_data['BookingsCheckedIn'].unique())"
   ]
  },
  {
   "cell_type": "code",
   "execution_count": 82,
   "metadata": {},
   "outputs": [
    {
     "name": "stdout",
     "output_type": "stream",
     "text": [
      "   ID  monetary  BookingsCheckedIn  DaysSinceLastStay r_quartile f_quartile  \\\n",
      "0   1       476                  3                151          1          3   \n",
      "3   4       300                  1               1100          4          4   \n",
      "5   6       254                  1               1097          4          4   \n",
      "7   8       629                  1               1100          4          4   \n",
      "9  10       243                  1               1098          4          4   \n",
      "\n",
      "  m_quartile rfm_score  \n",
      "0          2       132  \n",
      "3          3       443  \n",
      "5          3       443  \n",
      "7          1       441  \n",
      "9          3       443  \n"
     ]
    }
   ],
   "source": [
    "#RFM\n",
    "rfm = filtered_RFM_data.copy()\n",
    "rfm['monetary'] = rfm['monetary'].astype(int)\n",
    "rfm['BookingsCheckedIn'] = rfm['BookingsCheckedIn'].astype(int)\n",
    "rfm['DaysSinceLastStay'] = rfm['DaysSinceLastStay'].astype(int)\n",
    "rfm['r_quartile'] = pd.qcut(rfm['DaysSinceLastStay'], 4, ['1','2','3','4'])\n",
    "rfm['f_quartile'] = pd.cut(rfm['BookingsCheckedIn'], bins=[0, 2, 5, 10, float('inf')], labels=['4', '3','2', '1'])\n",
    "rfm['m_quartile'] = pd.qcut(rfm['monetary'], 4, ['4','3','2','1'])\n",
    "rfm['rfm_score'] = rfm.r_quartile.astype(str)+ rfm.f_quartile.astype(str) + rfm.m_quartile.astype(str)\n",
    "print(rfm.head())\n"
   ]
  },
  {
   "cell_type": "code",
   "execution_count": 83,
   "metadata": {},
   "outputs": [
    {
     "name": "stdout",
     "output_type": "stream",
     "text": [
      "          ID  monetary  BookingsCheckedIn rfm_score\n",
      "20072  20073      3441                 24       111\n",
      "42116  42117      3383                 11       111\n",
      "3776    3777      3313                 29       111\n",
      "6675    6676      3061                 29       111\n",
      "6204    6205      3001                 17       111\n",
      "5661    5662      2548                 25       111\n",
      "11407  11408      2369                 13       111\n",
      "11415  11416      2360                 23       111\n",
      "8640    8641      2109                 15       111\n",
      "60970  60971      2040                 20       111\n",
      "66946  66947      1805                 11       111\n",
      "11422  11423      1800                 12       111\n",
      "61155  61156      1552                 12       111\n",
      "42619  42620      1499                 12       111\n",
      "2680    2681      1468                 15       111\n",
      "19270  19271      1454                 14       111\n",
      "22851  22852      1439                 13       111\n",
      "378      379      1248                 11       111\n",
      "27856  27857      1195                 14       111\n",
      "10150  10151       999                 13       111\n"
     ]
    }
   ],
   "source": [
    "final_rfm = rfm[['ID','monetary','BookingsCheckedIn','rfm_score']]\n",
    "#top customers\n",
    "top_customers = final_rfm[final_rfm['rfm_score'] == '111'].sort_values('monetary', ascending=False)\n",
    "print(top_customers)"
   ]
  }
 ],
 "metadata": {
  "kernelspec": {
   "display_name": "myenv",
   "language": "python",
   "name": "python3"
  },
  "language_info": {
   "codemirror_mode": {
    "name": "ipython",
    "version": 3
   },
   "file_extension": ".py",
   "mimetype": "text/x-python",
   "name": "python",
   "nbconvert_exporter": "python",
   "pygments_lexer": "ipython3",
   "version": "3.11.7"
  }
 },
 "nbformat": 4,
 "nbformat_minor": 2
}
